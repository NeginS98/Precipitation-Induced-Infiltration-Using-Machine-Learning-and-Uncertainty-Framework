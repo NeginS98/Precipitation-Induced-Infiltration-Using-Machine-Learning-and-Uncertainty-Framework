{
  "cells": [
    {
      "cell_type": "markdown",
      "metadata": {
        "id": "view-in-github",
        "colab_type": "text"
      },
      "source": [
        "<a href=\"https://colab.research.google.com/github/NeginS98/Precipitation-Induced-Infiltration-Using-Machine-Learning-and-Uncertainty-Framework/blob/main/final_Upstream.ipynb\" target=\"_parent\"><img src=\"https://colab.research.google.com/assets/colab-badge.svg\" alt=\"Open In Colab\"/></a>"
      ]
    },
    {
      "cell_type": "markdown",
      "metadata": {
        "id": "UqZO3OOasIvE"
      },
      "source": [
        "# **Library**"
      ]
    },
    {
      "cell_type": "code",
      "execution_count": null,
      "metadata": {
        "colab": {
          "background_save": true
        },
        "id": "sRduFMaPy1Sx"
      },
      "outputs": [],
      "source": [
        "import pandas as pd\n",
        "import numpy as np\n",
        "import matplotlib.pyplot as plt\n",
        "import seaborn as sns\n",
        "from sklearn import metrics\n",
        "import random\n",
        "import os\n",
        "import glob"
      ]
    },
    {
      "cell_type": "code",
      "execution_count": null,
      "metadata": {
        "colab": {
          "background_save": true
        },
        "id": "O-6ISIKRRmtr"
      },
      "outputs": [],
      "source": [
        "from sklearn.model_selection import GridSearchCV, train_test_split\n",
        "from sklearn import metrics\n",
        "from tensorflow import keras\n",
        "from keras.models import Sequential\n",
        "from keras.layers import Dense, InputLayer\n",
        "from keras.layers import LSTM\n",
        "from keras.layers import Dropout\n",
        "from keras.layers import Flatten,BatchNormalization\n",
        "from keras.callbacks import EarlyStopping\n",
        "from keras import optimizers"
      ]
    },
    {
      "cell_type": "code",
      "execution_count": null,
      "metadata": {
        "colab": {
          "background_save": true
        },
        "id": "HCyU2j4nzAqz"
      },
      "outputs": [],
      "source": [
        "import warnings\n",
        "warnings.filterwarnings('ignore')"
      ]
    },
    {
      "cell_type": "code",
      "execution_count": null,
      "metadata": {
        "id": "c1EYtyLVzCbX"
      },
      "outputs": [],
      "source": [
        "from google.colab import drive\n",
        "drive.mount('/content/drive')"
      ]
    },
    {
      "cell_type": "code",
      "execution_count": null,
      "metadata": {
        "colab": {
          "background_save": true
        },
        "id": "jWR5MbThf-yC"
      },
      "outputs": [],
      "source": [
        "!rm *"
      ]
    },
    {
      "cell_type": "markdown",
      "metadata": {
        "id": "xwkxtx6-OKuw"
      },
      "source": [
        "# **Read data**"
      ]
    },
    {
      "cell_type": "code",
      "execution_count": null,
      "metadata": {
        "colab": {
          "background_save": true
        },
        "id": "vWIdvtvDzPHS"
      },
      "outputs": [],
      "source": [
        "ghale_shahrokh = pd.read_csv('/content/drive/MyDrive/Upstream_models/ghale_sha_water_balance_result.csv').iloc[:, 0:7]"
      ]
    },
    {
      "cell_type": "code",
      "execution_count": null,
      "metadata": {
        "id": "OyP_nb3OFa23"
      },
      "outputs": [],
      "source": [
        "ghale_shahrokh.rename(columns={'month_num':'month', 'temp_mean': 'tempreture'}, inplace=True)"
      ]
    },
    {
      "cell_type": "markdown",
      "metadata": {
        "id": "qTz9W7UaTuoA"
      },
      "source": [
        "# **Model LSTM ghale_shahrokh**"
      ]
    },
    {
      "cell_type": "code",
      "execution_count": null,
      "metadata": {
        "id": "w3BSal6mTuoB"
      },
      "outputs": [],
      "source": [
        "x = ghale_shahrokh.drop(['year', 'month', 'infilteration'], axis=1)\n",
        "y = ghale_shahrokh.infilteration"
      ]
    },
    {
      "cell_type": "code",
      "execution_count": null,
      "metadata": {
        "id": "x0ufrlViTuoB"
      },
      "outputs": [],
      "source": [
        "x_train, x_test, y_train, y_test = train_test_split(x, y, test_size=0.25, random_state=42)"
      ]
    },
    {
      "cell_type": "code",
      "execution_count": null,
      "metadata": {
        "id": "bmMZq_IlTuoB"
      },
      "outputs": [],
      "source": [
        "regressor = Sequential()\n",
        "regressor.add(LSTM(units = 32, return_sequences = True, input_shape = (x.shape[1], 1)))\n",
        "regressor.add(Dropout(0.1))\n",
        "regressor.add(LSTM(units = 32, return_sequences = True))\n",
        "regressor.add(Dense(units = 1))\n",
        "regressor.compile(optimizer = 'adam', loss = 'mean_squared_error')\n",
        "regressor.fit(x_train, y_train, epochs = 500, batch_size = 32,\n",
        "              validation_data=(x_test,y_test),\n",
        "              callbacks=EarlyStopping(monitor='val_loss',patience=5))\n",
        "y_pred = regressor.predict(x_test)\n",
        "eval_dict = {'test size': 0.25,\n",
        "              'MAE': metrics.mean_absolute_error(y_test, y_pred),\n",
        "              'MSE':metrics.mean_squared_error(y_test, y_pred),\n",
        "              'RMSE':np.sqrt(metrics.mean_squared_error(y_test, y_pred)),\n",
        "              'R2 Score':metrics.r2_score(y_test, y_pred),\n",
        "}"
      ]
    },
    {
      "cell_type": "code",
      "execution_count": null,
      "metadata": {
        "id": "ARd3emOSTuoC"
      },
      "outputs": [],
      "source": [
        "eval_dict = {'test size': 0.25,\n",
        "              'MAE':'%.3f' % metrics.mean_absolute_error(y_test, y_pred),\n",
        "              'MSE':'%.3f' %metrics.mean_squared_error(y_test, y_pred),\n",
        "              'RMSE':'%.3f' %np.sqrt(metrics.mean_squared_error(y_test, y_pred)),\n",
        "              'R2 Score':'%.3f' %metrics.r2_score(y_test, y_pred),\n",
        "              'R':'%.3f' % np.sqrt(metrics.r2_score(y_test, y_pred))\n",
        "              }\n",
        "eval_dict"
      ]
    },
    {
      "cell_type": "code",
      "execution_count": null,
      "metadata": {
        "id": "K4aXWZlbTuoC"
      },
      "outputs": [],
      "source": [
        "val = []\n",
        "key = []\n",
        "for i in eval_dict.values():\n",
        "  val.append(i)\n",
        "for j in eval_dict.keys():\n",
        "  key.append(j)\n",
        "eval_df = pd.DataFrame()\n",
        "eval_df.insert(0, 'None', key)\n",
        "eval_df.insert(1, 'value', val)\n",
        "header_row = eval_df.iloc[0]\n",
        "eval_df = pd.DataFrame(eval_df.values[1:], columns=header_row)"
      ]
    },
    {
      "cell_type": "markdown",
      "metadata": {
        "id": "cptejGUiUIFu"
      },
      "source": [
        "# **Prediction By LSTM**"
      ]
    },
    {
      "cell_type": "markdown",
      "metadata": {
        "id": "NzEixdsNUVga"
      },
      "source": [
        "**Data**"
      ]
    },
    {
      "cell_type": "code",
      "execution_count": null,
      "metadata": {
        "id": "6FMnDa76I9kV"
      },
      "outputs": [],
      "source": [
        "path_126='/content/drive/MyDrive/Upstream_basin_models/Upstream_126.xlsx'\n",
        "path_245='/content/drive/MyDrive/Upstream_basin_models/Upstream_245.xlsx'\n",
        "path_585='/content/drive/MyDrive/Upstream_basin_models/Upstream_585.xlsx'\n",
        "\n",
        "df_ssp126 = pd.read_excel(path_126, 'ghale_shahrokh').dropna(axis=0)\n",
        "df_ssp245 = pd.read_excel(path_245, 'ghale_shahrokh').dropna(axis=0)\n",
        "df_ssp585 = pd.read_excel(path_585, 'ghale_shahrokh').dropna(axis=0)"
      ]
    },
    {
      "cell_type": "code",
      "execution_count": null,
      "metadata": {
        "id": "c1zzCwuHPduw"
      },
      "outputs": [],
      "source": [
        "date = df_ssp126.drop(['sub_basin', 'month_name',  'temp_126', 'pr_126',\n",
        "       'discharge', 'AET'], axis=1)"
      ]
    },
    {
      "cell_type": "code",
      "execution_count": null,
      "metadata": {
        "id": "Vh9JdXejVK0K"
      },
      "outputs": [],
      "source": [
        "x_pred_126 = df_ssp126.drop({'sub_basin', 'year', 'month_name', 'month'}, axis=1)\n",
        "x_pred_126.rename(columns={'temp_126':'tempreture',\t'pr_126':'pr' ,\t'discharge':'Runoff'}, inplace=True)\n",
        "x_pred_245 = df_ssp245.drop({'sub_basin', 'year', 'month_name', 'month'}, axis=1)\n",
        "x_pred_245.rename(columns={'temp_245':'tempreture',\t'pr_245':'pr' ,\t'discharge':'Runoff'}, inplace=True)\n",
        "x_pred_585 = df_ssp585.drop({'sub_basin', 'year', 'month_name', 'month'}, axis=1)\n",
        "x_pred_585.rename(columns={'temp_585':'tempreture',\t'pr_585':'pr' ,\t'discharge':'Runoff'}, inplace=True)"
      ]
    },
    {
      "cell_type": "code",
      "execution_count": null,
      "metadata": {
        "id": "RfZacwIXUHt_"
      },
      "outputs": [],
      "source": [
        "regressor.fit(x , y)\n",
        "y_pred_126 = model.predict(x_pred_126)\n",
        "y_pred_245 = model.predict(x_pred_245)\n",
        "y_pred_585 = model.predict(x_pred_585)"
      ]
    },
    {
      "cell_type": "code",
      "execution_count": null,
      "metadata": {
        "id": "L_VWu6ObMOo2"
      },
      "outputs": [],
      "source": [
        "rcParams['figure.figsize'] = 10, 3\n",
        "plt.plot(y_pred_126)\n",
        "plt.plot(y_pred_245)\n",
        "plt.plot(y_pred_585)\n",
        "plt.legend(['SSP126', 'SSP245', 'SSP585'])\n",
        "plt.ylabel('Infilterarion')\n"
      ]
    },
    {
      "cell_type": "code",
      "execution_count": null,
      "metadata": {
        "id": "8a61jGRBOm-C"
      },
      "outputs": [],
      "source": [
        "len(y_pred_126), len(y_pred_245), len(y_pred_585)"
      ]
    },
    {
      "cell_type": "code",
      "execution_count": null,
      "metadata": {
        "id": "QKPCzZ9TNo6o"
      },
      "outputs": [],
      "source": [
        "result_final = pd.DataFrame({\n",
        "    'year': date.year,\n",
        "    'month': date.month,\n",
        "    'scenario_126': y_pred_126,\n",
        "    'scenario_245': y_pred_245[0:300],\n",
        "    'scenario_585': y_pred_585[0:300],\n",
        "})\n",
        "result_final['scenario_126'] = result_final['scenario_126'].apply(lambda x : x if x > 0 else 0)\n",
        "result_final['scenario_245'] = result_final['scenario_245'].apply(lambda x : x if x > 0 else 0)\n",
        "result_final['scenario_585'] = result_final['scenario_585'].apply(lambda x : x if x > 0 else 0)"
      ]
    }
  ],
  "metadata": {
    "colab": {
      "collapsed_sections": [
        "xwkxtx6-OKuw",
        "fu4hNxAxRTKm"
      ],
      "provenance": [],
      "authorship_tag": "ABX9TyOdVUqxMIK7CG5U5kzS+7of",
      "include_colab_link": true
    },
    "kernelspec": {
      "display_name": "Python 3",
      "name": "python3"
    },
    "language_info": {
      "name": "python"
    }
  },
  "nbformat": 4,
  "nbformat_minor": 0
}